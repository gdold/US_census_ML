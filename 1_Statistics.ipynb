{
 "cells": [
  {
   "cell_type": "code",
   "execution_count": 1,
   "metadata": {},
   "outputs": [],
   "source": [
    "import numpy as np\n",
    "from numpy import r_, c_ # Convenient syntax to create numpy arrays with e.g. r_[1,2,3] (concatenates in a row) or c_[1,2,3] (concatenates in a column)\n",
    "import matplotlib.pyplot as plt\n",
    "%matplotlib inline\n",
    "import pandas as pd\n",
    "import seaborn as sns\n",
    "sns.set()"
   ]
  },
  {
   "cell_type": "markdown",
   "metadata": {},
   "source": [
    "# Import census data\n",
    "Load the CSV as a Pandas DataFrame, and the columns into a list."
   ]
  },
  {
   "cell_type": "code",
   "execution_count": 2,
   "metadata": {},
   "outputs": [],
   "source": [
    "# Parse metadata file to get column names\n",
    "columns = []\n",
    "for line in open('us_census_full/census_income_metadata.txt','r'):\n",
    "    li=line.strip() # Strip trailing whitespace\n",
    "    if not (li.startswith(\"|\") or li.startswith(\"-\") or li==''): # Strip comment lines and empty lines\n",
    "        variable = li.split(':') # Split column description at colon\n",
    "        columns.append(variable[0]) # Add column name to list\n",
    "\n",
    "# Add final (problem) column name\n",
    "columns.append('Income over 50k')"
   ]
  },
  {
   "cell_type": "code",
   "execution_count": 3,
   "metadata": {},
   "outputs": [
    {
     "data": {
      "text/html": [
       "<div>\n",
       "<style scoped>\n",
       "    .dataframe tbody tr th:only-of-type {\n",
       "        vertical-align: middle;\n",
       "    }\n",
       "\n",
       "    .dataframe tbody tr th {\n",
       "        vertical-align: top;\n",
       "    }\n",
       "\n",
       "    .dataframe thead th {\n",
       "        text-align: right;\n",
       "    }\n",
       "</style>\n",
       "<table border=\"1\" class=\"dataframe\">\n",
       "  <thead>\n",
       "    <tr style=\"text-align: right;\">\n",
       "      <th></th>\n",
       "      <th>age</th>\n",
       "      <th>class of worker</th>\n",
       "      <th>detailed industry recode</th>\n",
       "      <th>detailed occupation recode</th>\n",
       "      <th>education</th>\n",
       "      <th>wage per hour</th>\n",
       "      <th>enroll in edu inst last wk</th>\n",
       "      <th>marital stat</th>\n",
       "      <th>major industry code</th>\n",
       "      <th>major occupation code</th>\n",
       "      <th>...</th>\n",
       "      <th>country of birth father</th>\n",
       "      <th>country of birth mother</th>\n",
       "      <th>country of birth self</th>\n",
       "      <th>citizenship</th>\n",
       "      <th>own business or self employed</th>\n",
       "      <th>fill inc questionnaire for veteran's admin</th>\n",
       "      <th>veterans benefits</th>\n",
       "      <th>weeks worked in year</th>\n",
       "      <th>year</th>\n",
       "      <th>Income over 50k</th>\n",
       "    </tr>\n",
       "  </thead>\n",
       "  <tbody>\n",
       "    <tr>\n",
       "      <th>0</th>\n",
       "      <td>73</td>\n",
       "      <td>Not in universe</td>\n",
       "      <td>0</td>\n",
       "      <td>0</td>\n",
       "      <td>High school graduate</td>\n",
       "      <td>0</td>\n",
       "      <td>Not in universe</td>\n",
       "      <td>Widowed</td>\n",
       "      <td>Not in universe or children</td>\n",
       "      <td>Not in universe</td>\n",
       "      <td>...</td>\n",
       "      <td>United-States</td>\n",
       "      <td>United-States</td>\n",
       "      <td>United-States</td>\n",
       "      <td>Native- Born in the United States</td>\n",
       "      <td>0</td>\n",
       "      <td>Not in universe</td>\n",
       "      <td>2</td>\n",
       "      <td>0</td>\n",
       "      <td>95</td>\n",
       "      <td>False</td>\n",
       "    </tr>\n",
       "    <tr>\n",
       "      <th>1</th>\n",
       "      <td>58</td>\n",
       "      <td>Self-employed-not incorporated</td>\n",
       "      <td>4</td>\n",
       "      <td>34</td>\n",
       "      <td>Some college but no degree</td>\n",
       "      <td>0</td>\n",
       "      <td>Not in universe</td>\n",
       "      <td>Divorced</td>\n",
       "      <td>Construction</td>\n",
       "      <td>Precision production craft &amp; repair</td>\n",
       "      <td>...</td>\n",
       "      <td>United-States</td>\n",
       "      <td>United-States</td>\n",
       "      <td>United-States</td>\n",
       "      <td>Native- Born in the United States</td>\n",
       "      <td>0</td>\n",
       "      <td>Not in universe</td>\n",
       "      <td>2</td>\n",
       "      <td>52</td>\n",
       "      <td>94</td>\n",
       "      <td>False</td>\n",
       "    </tr>\n",
       "    <tr>\n",
       "      <th>2</th>\n",
       "      <td>18</td>\n",
       "      <td>Not in universe</td>\n",
       "      <td>0</td>\n",
       "      <td>0</td>\n",
       "      <td>10th grade</td>\n",
       "      <td>0</td>\n",
       "      <td>High school</td>\n",
       "      <td>Never married</td>\n",
       "      <td>Not in universe or children</td>\n",
       "      <td>Not in universe</td>\n",
       "      <td>...</td>\n",
       "      <td>Vietnam</td>\n",
       "      <td>Vietnam</td>\n",
       "      <td>Vietnam</td>\n",
       "      <td>Foreign born- Not a citizen of U S</td>\n",
       "      <td>0</td>\n",
       "      <td>Not in universe</td>\n",
       "      <td>2</td>\n",
       "      <td>0</td>\n",
       "      <td>95</td>\n",
       "      <td>False</td>\n",
       "    </tr>\n",
       "    <tr>\n",
       "      <th>3</th>\n",
       "      <td>9</td>\n",
       "      <td>Not in universe</td>\n",
       "      <td>0</td>\n",
       "      <td>0</td>\n",
       "      <td>Children</td>\n",
       "      <td>0</td>\n",
       "      <td>Not in universe</td>\n",
       "      <td>Never married</td>\n",
       "      <td>Not in universe or children</td>\n",
       "      <td>Not in universe</td>\n",
       "      <td>...</td>\n",
       "      <td>United-States</td>\n",
       "      <td>United-States</td>\n",
       "      <td>United-States</td>\n",
       "      <td>Native- Born in the United States</td>\n",
       "      <td>0</td>\n",
       "      <td>Not in universe</td>\n",
       "      <td>0</td>\n",
       "      <td>0</td>\n",
       "      <td>94</td>\n",
       "      <td>False</td>\n",
       "    </tr>\n",
       "    <tr>\n",
       "      <th>4</th>\n",
       "      <td>10</td>\n",
       "      <td>Not in universe</td>\n",
       "      <td>0</td>\n",
       "      <td>0</td>\n",
       "      <td>Children</td>\n",
       "      <td>0</td>\n",
       "      <td>Not in universe</td>\n",
       "      <td>Never married</td>\n",
       "      <td>Not in universe or children</td>\n",
       "      <td>Not in universe</td>\n",
       "      <td>...</td>\n",
       "      <td>United-States</td>\n",
       "      <td>United-States</td>\n",
       "      <td>United-States</td>\n",
       "      <td>Native- Born in the United States</td>\n",
       "      <td>0</td>\n",
       "      <td>Not in universe</td>\n",
       "      <td>0</td>\n",
       "      <td>0</td>\n",
       "      <td>94</td>\n",
       "      <td>False</td>\n",
       "    </tr>\n",
       "  </tbody>\n",
       "</table>\n",
       "<p>5 rows × 41 columns</p>\n",
       "</div>"
      ],
      "text/plain": [
       "   age                 class of worker  detailed industry recode  \\\n",
       "0   73                 Not in universe                         0   \n",
       "1   58  Self-employed-not incorporated                         4   \n",
       "2   18                 Not in universe                         0   \n",
       "3    9                 Not in universe                         0   \n",
       "4   10                 Not in universe                         0   \n",
       "\n",
       "   detailed occupation recode                   education  wage per hour  \\\n",
       "0                           0        High school graduate              0   \n",
       "1                          34  Some college but no degree              0   \n",
       "2                           0                  10th grade              0   \n",
       "3                           0                    Children              0   \n",
       "4                           0                    Children              0   \n",
       "\n",
       "  enroll in edu inst last wk   marital stat          major industry code  \\\n",
       "0            Not in universe        Widowed  Not in universe or children   \n",
       "1            Not in universe       Divorced                 Construction   \n",
       "2                High school  Never married  Not in universe or children   \n",
       "3            Not in universe  Never married  Not in universe or children   \n",
       "4            Not in universe  Never married  Not in universe or children   \n",
       "\n",
       "                 major occupation code  ... country of birth father  \\\n",
       "0                      Not in universe  ...           United-States   \n",
       "1  Precision production craft & repair  ...           United-States   \n",
       "2                      Not in universe  ...                 Vietnam   \n",
       "3                      Not in universe  ...           United-States   \n",
       "4                      Not in universe  ...           United-States   \n",
       "\n",
       "  country of birth mother country of birth self  \\\n",
       "0           United-States         United-States   \n",
       "1           United-States         United-States   \n",
       "2                 Vietnam               Vietnam   \n",
       "3           United-States         United-States   \n",
       "4           United-States         United-States   \n",
       "\n",
       "                           citizenship own business or self employed  \\\n",
       "0    Native- Born in the United States                             0   \n",
       "1    Native- Born in the United States                             0   \n",
       "2  Foreign born- Not a citizen of U S                              0   \n",
       "3    Native- Born in the United States                             0   \n",
       "4    Native- Born in the United States                             0   \n",
       "\n",
       "  fill inc questionnaire for veteran's admin  veterans benefits  \\\n",
       "0                            Not in universe                  2   \n",
       "1                            Not in universe                  2   \n",
       "2                            Not in universe                  2   \n",
       "3                            Not in universe                  0   \n",
       "4                            Not in universe                  0   \n",
       "\n",
       "   weeks worked in year  year Income over 50k  \n",
       "0                     0    95           False  \n",
       "1                    52    94           False  \n",
       "2                     0    95           False  \n",
       "3                     0    94           False  \n",
       "4                     0    94           False  \n",
       "\n",
       "[5 rows x 41 columns]"
      ]
     },
     "execution_count": 3,
     "metadata": {},
     "output_type": "execute_result"
    }
   ],
   "source": [
    "# Load US census data\n",
    "# Separator is a comma followed by a space\n",
    "# NaN values are specified by '?'\n",
    "census = pd.read_csv('us_census_full/census_income_learn.csv', names = columns, sep=',\\s', na_values=['?'], engine='python')\n",
    "census['Income over 50k'] = census['Income over 50k']=='50000+.' # Convert last (problem) column to bool\n",
    "census.drop('instance weight', axis=1, inplace=True) # Drop instance weight column as not to be used in classifier\n",
    "census.head()"
   ]
  },
  {
   "cell_type": "markdown",
   "metadata": {},
   "source": [
    "# Statistical audit"
   ]
  },
  {
   "cell_type": "markdown",
   "metadata": {},
   "source": [
    "Let's look at the available features (i.e. columns in the CSV) and the number of entries"
   ]
  },
  {
   "cell_type": "code",
   "execution_count": 4,
   "metadata": {},
   "outputs": [
    {
     "name": "stdout",
     "output_type": "stream",
     "text": [
      "<class 'pandas.core.frame.DataFrame'>\n",
      "RangeIndex: 199523 entries, 0 to 199522\n",
      "Data columns (total 41 columns):\n",
      " #   Column                                      Non-Null Count   Dtype \n",
      "---  ------                                      --------------   ----- \n",
      " 0   age                                         199523 non-null  int64 \n",
      " 1   class of worker                             199523 non-null  object\n",
      " 2   detailed industry recode                    199523 non-null  int64 \n",
      " 3   detailed occupation recode                  199523 non-null  int64 \n",
      " 4   education                                   199523 non-null  object\n",
      " 5   wage per hour                               199523 non-null  int64 \n",
      " 6   enroll in edu inst last wk                  199523 non-null  object\n",
      " 7   marital stat                                199523 non-null  object\n",
      " 8   major industry code                         199523 non-null  object\n",
      " 9   major occupation code                       199523 non-null  object\n",
      " 10  race                                        199523 non-null  object\n",
      " 11  hispanic origin                             198649 non-null  object\n",
      " 12  sex                                         199523 non-null  object\n",
      " 13  member of a labor union                     199523 non-null  object\n",
      " 14  reason for unemployment                     199523 non-null  object\n",
      " 15  full or part time employment stat           199523 non-null  object\n",
      " 16  capital gains                               199523 non-null  int64 \n",
      " 17  capital losses                              199523 non-null  int64 \n",
      " 18  dividends from stocks                       199523 non-null  int64 \n",
      " 19  tax filer stat                              199523 non-null  object\n",
      " 20  region of previous residence                199523 non-null  object\n",
      " 21  state of previous residence                 198815 non-null  object\n",
      " 22  detailed household and family stat          199523 non-null  object\n",
      " 23  detailed household summary in household     199523 non-null  object\n",
      " 24  migration code-change in msa                99827 non-null   object\n",
      " 25  migration code-change in reg                99827 non-null   object\n",
      " 26  migration code-move within reg              99827 non-null   object\n",
      " 27  live in this house 1 year ago               199523 non-null  object\n",
      " 28  migration prev res in sunbelt               99827 non-null   object\n",
      " 29  num persons worked for employer             199523 non-null  int64 \n",
      " 30  family members under 18                     199523 non-null  object\n",
      " 31  country of birth father                     192810 non-null  object\n",
      " 32  country of birth mother                     193404 non-null  object\n",
      " 33  country of birth self                       196130 non-null  object\n",
      " 34  citizenship                                 199523 non-null  object\n",
      " 35  own business or self employed               199523 non-null  int64 \n",
      " 36  fill inc questionnaire for veteran's admin  199523 non-null  object\n",
      " 37  veterans benefits                           199523 non-null  int64 \n",
      " 38  weeks worked in year                        199523 non-null  int64 \n",
      " 39  year                                        199523 non-null  int64 \n",
      " 40  Income over 50k                             199523 non-null  bool  \n",
      "dtypes: bool(1), int64(12), object(28)\n",
      "memory usage: 61.1+ MB\n"
     ]
    }
   ],
   "source": [
    "# Number of entries and available data\n",
    "census.info()"
   ]
  },
  {
   "cell_type": "markdown",
   "metadata": {},
   "source": [
    "Where are we missing data?"
   ]
  },
  {
   "cell_type": "code",
   "execution_count": 5,
   "metadata": {},
   "outputs": [
    {
     "data": {
      "text/plain": [
       "age                                               0\n",
       "class of worker                                   0\n",
       "detailed industry recode                          0\n",
       "detailed occupation recode                        0\n",
       "education                                         0\n",
       "wage per hour                                     0\n",
       "enroll in edu inst last wk                        0\n",
       "marital stat                                      0\n",
       "major industry code                               0\n",
       "major occupation code                             0\n",
       "race                                              0\n",
       "hispanic origin                                 874\n",
       "sex                                               0\n",
       "member of a labor union                           0\n",
       "reason for unemployment                           0\n",
       "full or part time employment stat                 0\n",
       "capital gains                                     0\n",
       "capital losses                                    0\n",
       "dividends from stocks                             0\n",
       "tax filer stat                                    0\n",
       "region of previous residence                      0\n",
       "state of previous residence                     708\n",
       "detailed household and family stat                0\n",
       "detailed household summary in household           0\n",
       "migration code-change in msa                  99696\n",
       "migration code-change in reg                  99696\n",
       "migration code-move within reg                99696\n",
       "live in this house 1 year ago                     0\n",
       "migration prev res in sunbelt                 99696\n",
       "num persons worked for employer                   0\n",
       "family members under 18                           0\n",
       "country of birth father                        6713\n",
       "country of birth mother                        6119\n",
       "country of birth self                          3393\n",
       "citizenship                                       0\n",
       "own business or self employed                     0\n",
       "fill inc questionnaire for veteran's admin        0\n",
       "veterans benefits                                 0\n",
       "weeks worked in year                              0\n",
       "year                                              0\n",
       "Income over 50k                                   0\n",
       "dtype: int64"
      ]
     },
     "execution_count": 5,
     "metadata": {},
     "output_type": "execute_result"
    }
   ],
   "source": [
    "#How many missing data in each column?\n",
    "census.isnull().sum()"
   ]
  },
  {
   "cell_type": "markdown",
   "metadata": {},
   "source": [
    "## Univariate analysis"
   ]
  },
  {
   "cell_type": "markdown",
   "metadata": {},
   "source": [
    "The data provided includes continuous numerical values (e.g. *age*, *wage per hour*, *dividends from stocks*), as well as categorical data (e.g. *education*, *tax filer stat*, *citizenship*). We'll treat each of these two types of data differently.\n",
    "\n",
    "For categorical data we'll plot a bar chart showing each category within a feature, along with a summary of the proportion of each category within that column.\n",
    "\n",
    "For numerical values we'll show some statistics of the data including mean, median, and standard deviation, and we'll plot a histogram to visualise the distribution of the data, as well as a box plot to show the median, upper and lower quartiles. The whiskers of the box plot are capped at 1.5* the IQR, and any data beyond this is shown as an outlier.\n",
    "\n",
    "Some interesting features of the data will be briefly commented on."
   ]
  },
  {
   "cell_type": "markdown",
   "metadata": {},
   "source": [
    "### Income"
   ]
  },
  {
   "cell_type": "code",
   "execution_count": 6,
   "metadata": {},
   "outputs": [
    {
     "name": "stdout",
     "output_type": "stream",
     "text": [
      "False    0.937942\n",
      "True     0.062058\n",
      "Name: Income over 50k, dtype: float64\n"
     ]
    },
    {
     "data": {
      "image/png": "[encoded data removed]",
      "text/plain": [
       "<Figure size 432x288 with 1 Axes>"
      ]
     },
     "metadata": {
      "needs_background": "light"
     },
     "output_type": "display_data"
    }
   ],
   "source": [
    "column = census['Income over 50k']\n",
    "values = column.value_counts(normalize=True)\n",
    "print(values)\n",
    "values.plot.bar()\n",
    "plt.title(column.name)\n",
    "plt.show()"
   ]
  },
  {
   "cell_type": "markdown",
   "metadata": {},
   "source": [
    "### Age"
   ]
  },
  {
   "cell_type": "code",
   "execution_count": 7,
   "metadata": {},
   "outputs": [
    {
     "data": {
      "text/plain": [
       "count    199523.000000\n",
       "mean         34.494199\n",
       "std          22.310895\n",
       "min           0.000000\n",
       "25%          15.000000\n",
       "50%          33.000000\n",
       "75%          50.000000\n",
       "max          90.000000\n",
       "Name: age, dtype: float64"
      ]
     },
     "execution_count": 7,
     "metadata": {},
     "output_type": "execute_result"
    }
   ],
   "source": [
    "column = census['age']\n",
    "column.describe()"
   ]
  },
  {
   "cell_type": "markdown",
   "metadata": {},
   "source": [
    "Seems age is capped at 90"
   ]
  },
  {
   "cell_type": "code",
   "execution_count": 8,
   "metadata": {},
   "outputs": [
    {
     "data": {
      "image/png": "[encoded data removed]",
      "text/plain": [
       "<Figure size 432x288 with 2 Axes>"
      ]
     },
     "metadata": {
      "needs_background": "light"
     },
     "output_type": "display_data"
    }
   ],
   "source": [
    "column = census['age']\n",
    "#values = column.value_counts(normalize=True)\n",
    "#print(values)\n",
    "\n",
    "# Generate two axes on figure\n",
    "f, (ax_box, ax_hist) = plt.subplots(2, sharex=True, gridspec_kw={\"height_ratios\": (.2,.8)})\n",
    " \n",
    "# Plot histogram and boxplot\n",
    "sns.distplot(column,bins=91,kde=False, ax=ax_hist)\n",
    "sns.boxplot(column, ax=ax_box)\n",
    "\n",
    "ax_box.set(xlabel='')\n",
    "ax_box.set(title=column.name)\n",
    "plt.show()"
   ]
  },
  {
   "cell_type": "markdown",
   "metadata": {},
   "source": [
    "There is an increase in the population of the 90 bin due to age being capped at 90.\n",
    "\n",
    "There's more to see here, we'll revisit this when we look at the distribution of sex in the US census dataset."
   ]
  },
  {
   "cell_type": "markdown",
   "metadata": {},
   "source": [
    "### Class of worker"
   ]
  },
  {
   "cell_type": "code",
   "execution_count": 9,
   "metadata": {},
   "outputs": [
    {
     "name": "stdout",
     "output_type": "stream",
     "text": [
      "Not in universe                   0.502423\n",
      "Private                           0.361001\n",
      "Self-employed-not incorporated    0.042326\n",
      "Local government                  0.039013\n",
      "State government                  0.021186\n",
      "Self-employed-incorporated        0.016364\n",
      "Federal government                0.014660\n",
      "Never worked                      0.002200\n",
      "Without pay                       0.000827\n",
      "Name: class of worker, dtype: float64\n"
     ]
    },
    {
     "data": {
      "image/png": "[encoded data removed]",
      "text/plain": [
       "<Figure size 432x288 with 1 Axes>"
      ]
     },
     "metadata": {
      "needs_background": "light"
     },
     "output_type": "display_data"
    }
   ],
   "source": [
    "column = census['class of worker']\n",
    "values = column.value_counts(normalize=True)\n",
    "print(values)\n",
    "values.plot.bar()\n",
    "plt.title(column.name)\n",
    "plt.show()"
   ]
  },
  {
   "cell_type": "markdown",
   "metadata": {},
   "source": [
    "Not in universe includes schoolchildren and retired people"
   ]
  },
  {
   "cell_type": "markdown",
   "metadata": {},
   "source": [
    "### Education"
   ]
  },
  {
   "cell_type": "code",
   "execution_count": 10,
   "metadata": {},
   "outputs": [
    {
     "name": "stdout",
     "output_type": "stream",
     "text": [
      "High school graduate                      0.242614\n",
      "Children                                  0.237677\n",
      "Some college but no degree                0.139433\n",
      "Bachelors degree(BA AB BS)                0.099562\n",
      "7th and 8th grade                         0.040131\n",
      "10th grade                                0.037875\n",
      "11th grade                                0.034462\n",
      "Masters degree(MA MS MEng MEd MSW MBA)    0.032783\n",
      "9th grade                                 0.031224\n",
      "Associates degree-occup /vocational       0.026854\n",
      "Associates degree-academic program        0.021867\n",
      "5th or 6th grade                          0.016424\n",
      "12th grade no diploma                     0.010655\n",
      "1st 2nd 3rd or 4th grade                  0.009017\n",
      "Prof school degree (MD DDS DVM LLB JD)    0.008986\n",
      "Doctorate degree(PhD EdD)                 0.006330\n",
      "Less than 1st grade                       0.004105\n",
      "Name: education, dtype: float64\n"
     ]
    },
    {
     "data": {
      "image/png": "[encoded data removed]",
      "text/plain": [
       "<Figure size 432x288 with 1 Axes>"
      ]
     },
     "metadata": {
      "needs_background": "light"
     },
     "output_type": "display_data"
    }
   ],
   "source": [
    "column = census['education']\n",
    "values = column.value_counts(normalize=True)\n",
    "print(values)\n",
    "values.plot.bar()\n",
    "plt.title(column.name)\n",
    "plt.show()"
   ]
  },
  {
   "cell_type": "markdown",
   "metadata": {},
   "source": [
    "### Wage per hour"
   ]
  },
  {
   "cell_type": "code",
   "execution_count": 11,
   "metadata": {},
   "outputs": [
    {
     "name": "stdout",
     "output_type": "stream",
     "text": [
      "Percent with zero wage: 94.3%\n"
     ]
    }
   ],
   "source": [
    "column = census['wage per hour']\n",
    "percentearningnothing = column.loc[(column==0)].count()/len(census)\n",
    "print('Percent with zero wage: {:2.1f}%'.format(percentearningnothing*100))"
   ]
  },
  {
   "cell_type": "markdown",
   "metadata": {},
   "source": [
    "The number of people earning zero wage seem far overrepresented. Seems missing data for this column was given the value 0.\n",
    "\n",
    "We should neglect zero wage to avoid skewing the data with these missing values.\n",
    "\n",
    "The following represent wage per hour for earning workers."
   ]
  },
  {
   "cell_type": "code",
   "execution_count": 12,
   "metadata": {},
   "outputs": [
    {
     "data": {
      "text/plain": [
       "count    11304.000000\n",
       "mean       978.321214\n",
       "std        656.483129\n",
       "min         20.000000\n",
       "25%        584.750000\n",
       "50%        800.000000\n",
       "75%       1200.000000\n",
       "max       9999.000000\n",
       "Name: wage per hour, dtype: float64"
      ]
     },
     "execution_count": 12,
     "metadata": {},
     "output_type": "execute_result"
    }
   ],
   "source": [
    "column = census['wage per hour']\n",
    "column = column.loc[(column!=0)] # Select only rows with non-zero value\n",
    "column.describe()"
   ]
  },
  {
   "cell_type": "markdown",
   "metadata": {},
   "source": [
    "These values seem to be in ¢/hour, or the US is a lot richer than I thought!"
   ]
  },
  {
   "cell_type": "code",
   "execution_count": 13,
   "metadata": {},
   "outputs": [
    {
     "data": {
      "image/png": "[encoded data removed]",
      "text/plain": [
       "<Figure size 432x288 with 2 Axes>"
      ]
     },
     "metadata": {
      "needs_background": "light"
     },
     "output_type": "display_data"
    }
   ],
   "source": [
    "column = census['wage per hour']\n",
    "column = column.loc[(column!=0)] # Select only rows with non-zero value\n",
    "\n",
    "# Generate two axes on figure\n",
    "f, (ax_box, ax_hist) = plt.subplots(2, sharex=True, gridspec_kw={\"height_ratios\": (.2,.8)})\n",
    " \n",
    "# Plot histogram and boxplot\n",
    "sns.distplot(column,bins=100,kde=False, ax=ax_hist)\n",
    "sns.boxplot(column, ax=ax_box)\n",
    "\n",
    "ax_box.set(xlabel='')\n",
    "ax_box.set(title=column.name)\n",
    "plt.show()"
   ]
  },
  {
   "cell_type": "markdown",
   "metadata": {},
   "source": [
    "There are a lot of outliers indicating individuals who earn far more than the typical/average worker. \n",
    "\n",
    "We can have a closer look at these outliers:"
   ]
  },
  {
   "cell_type": "code",
   "execution_count": 14,
   "metadata": {},
   "outputs": [
    {
     "name": "stdout",
     "output_type": "stream",
     "text": [
      "3.57% of earners have hourly wages above $21.23/h\n"
     ]
    }
   ],
   "source": [
    "# Calculate the quartiles\n",
    "wage_Q3 = column.quantile(0.75)\n",
    "wage_Q1 = column.quantile(0.25)\n",
    "wage_IQR = wage_Q3 - wage_Q1\n",
    "\n",
    "wage_outlier_threshold = wage_Q3 + 1.5*wage_IQR # This is how seaborn defines the whiskers on the boxplot\n",
    "\n",
    "num_of_outliers = (column > wage_outlier_threshold).sum()\n",
    "\n",
    "print('{:.2f}% of earners have hourly wages above ${:.2f}/h'.format(100*num_of_outliers/len(column),wage_outlier_threshold/100))"
   ]
  },
  {
   "cell_type": "markdown",
   "metadata": {},
   "source": [
    "What about the highest earning 1%?"
   ]
  },
  {
   "cell_type": "code",
   "execution_count": 15,
   "metadata": {},
   "outputs": [
    {
     "name": "stdout",
     "output_type": "stream",
     "text": [
      "1% of earners have hourly wages above $30.00/h\n"
     ]
    }
   ],
   "source": [
    "# 1% of earners earn above this\n",
    "wage_1percent_threshold = column.quantile(0.99)\n",
    "\n",
    "print('{:.0f}% of earners have hourly wages above ${:.2f}/h'.format(1,wage_1percent_threshold/100))"
   ]
  },
  {
   "cell_type": "markdown",
   "metadata": {},
   "source": [
    "What about the highest earning 0.1%?"
   ]
  },
  {
   "cell_type": "code",
   "execution_count": 16,
   "metadata": {},
   "outputs": [
    {
     "name": "stdout",
     "output_type": "stream",
     "text": [
      "0.1% of earners have hourly wages above $80.00/h\n"
     ]
    }
   ],
   "source": [
    "# 1% of earners earn above this\n",
    "wage_01percent_threshold = column.quantile(0.999)\n",
    "\n",
    "print('{:.1f}% of earners have hourly wages above ${:.2f}/h'.format(0.1,wage_01percent_threshold/100))"
   ]
  },
  {
   "cell_type": "markdown",
   "metadata": {},
   "source": [
    "### Enrolled in education"
   ]
  },
  {
   "cell_type": "code",
   "execution_count": 17,
   "metadata": {},
   "outputs": [
    {
     "name": "stdout",
     "output_type": "stream",
     "text": [
      "Not in universe          0.936950\n",
      "High school              0.034542\n",
      "College or university    0.028508\n",
      "Name: enroll in edu inst last wk, dtype: float64\n"
     ]
    },
    {
     "data": {
      "image/png": "[encoded data removed]",
      "text/plain": [
       "<Figure size 432x288 with 1 Axes>"
      ]
     },
     "metadata": {
      "needs_background": "light"
     },
     "output_type": "display_data"
    }
   ],
   "source": [
    "column = census['enroll in edu inst last wk']\n",
    "values = column.value_counts(normalize=True)\n",
    "print(values)\n",
    "values.plot.bar()\n",
    "plt.title(column.name)\n",
    "plt.show()"
   ]
  },
  {
   "cell_type": "markdown",
   "metadata": {},
   "source": [
    "### Marital status"
   ]
  },
  {
   "cell_type": "code",
   "execution_count": 18,
   "metadata": {},
   "outputs": [
    {
     "name": "stdout",
     "output_type": "stream",
     "text": [
      "Never married                      0.433459\n",
      "Married-civilian spouse present    0.422117\n",
      "Divorced                           0.063702\n",
      "Widowed                            0.052440\n",
      "Separated                          0.017341\n",
      "Married-spouse absent              0.007608\n",
      "Married-A F spouse present         0.003333\n",
      "Name: marital stat, dtype: float64\n"
     ]
    },
    {
     "data": {
      "image/png": "[encoded data removed]",
      "text/plain": [
       "<Figure size 432x288 with 1 Axes>"
      ]
     },
     "metadata": {
      "needs_background": "light"
     },
     "output_type": "display_data"
    }
   ],
   "source": [
    "column = census['marital stat']\n",
    "values = column.value_counts(normalize=True)\n",
    "print(values)\n",
    "values.plot.bar()\n",
    "plt.title(column.name)\n",
    "plt.show()"
   ]
  },
  {
   "cell_type": "markdown",
   "metadata": {},
   "source": [
    "### Industry and occupation"
   ]
  },
  {
   "cell_type": "code",
   "execution_count": 19,
   "metadata": {},
   "outputs": [
    {
     "name": "stdout",
     "output_type": "stream",
     "text": [
      "Unclassified percentage: 50.5%\n"
     ]
    }
   ],
   "source": [
    "column = census['major industry code']\n",
    "percentearningnothing = column.loc[(column=='Not in universe or children')].count()/len(census)\n",
    "print('Unclassified percentage: {:2.1f}%'.format(percentearningnothing*100))"
   ]
  },
  {
   "cell_type": "markdown",
   "metadata": {},
   "source": [
    "Unclassified people include retired and children. Neglect in the following plots so that the distribution of working people is more easily seen."
   ]
  },
  {
   "cell_type": "code",
   "execution_count": 20,
   "metadata": {},
   "outputs": [
    {
     "name": "stdout",
     "output_type": "stream",
     "text": [
      "Retail trade                           0.172705\n",
      "Manufacturing-durable goods            0.091209\n",
      "Education                              0.083803\n",
      "Manufacturing-nondurable goods         0.069780\n",
      "Finance insurance and real estate      0.062172\n",
      "Construction                           0.060543\n",
      "Business and repair services           0.057174\n",
      "Medical except hospital                0.047380\n",
      "Public administration                  0.046642\n",
      "Other professional services            0.045346\n",
      "Transportation                         0.042584\n",
      "Hospital services                      0.040106\n",
      "Wholesale trade                        0.036382\n",
      "Agriculture                            0.030585\n",
      "Personal services except private HH    0.029715\n",
      "Social services                        0.025789\n",
      "Entertainment                          0.016704\n",
      "Communications                         0.011949\n",
      "Utilities and sanitary services        0.011918\n",
      "Private household services             0.009561\n",
      "Mining                                 0.005696\n",
      "Forestry and fisheries                 0.001892\n",
      "Armed Forces                           0.000364\n",
      "Name: major industry code, dtype: float64\n"
     ]
    },
    {
     "data": {
      "image/png": "[encoded data removed]",
      "text/plain": [
       "<Figure size 432x288 with 1 Axes>"
      ]
     },
     "metadata": {
      "needs_background": "light"
     },
     "output_type": "display_data"
    }
   ],
   "source": [
    "column = census['major industry code']\n",
    "column = column.loc[(column!='Not in universe or children')] # Select only rows with non-zero value\n",
    "values = column.value_counts(normalize=True)\n",
    "print(values)\n",
    "values.plot.bar()\n",
    "plt.title(column.name)\n",
    "plt.show()"
   ]
  },
  {
   "cell_type": "code",
   "execution_count": 21,
   "metadata": {},
   "outputs": [
    {
     "name": "stdout",
     "output_type": "stream",
     "text": [
      "Unclassified percentage: 50.5%\n"
     ]
    }
   ],
   "source": [
    "column = census['major occupation code']\n",
    "percentearningnothing = column.loc[(column=='Not in universe')].count()/len(census)\n",
    "print('Unclassified percentage: {:2.1f}%'.format(percentearningnothing*100))"
   ]
  },
  {
   "cell_type": "markdown",
   "metadata": {},
   "source": [
    "Unclassified people include retired and children. Neglect in the following plots."
   ]
  },
  {
   "cell_type": "code",
   "execution_count": 22,
   "metadata": {},
   "outputs": [
    {
     "name": "stdout",
     "output_type": "stream",
     "text": [
      "Adm support including clerical           0.150113\n",
      "Professional specialty                   0.141037\n",
      "Executive admin and managerial           0.126418\n",
      "Other service                            0.122411\n",
      "Sales                                    0.119214\n",
      "Precision production craft & repair      0.106415\n",
      "Machine operators assmblrs & inspctrs    0.064539\n",
      "Handlers equip cleaners etc              0.041755\n",
      "Transportation and material moving       0.040672\n",
      "Farming forestry and fishing             0.031830\n",
      "Technicians and related support          0.030535\n",
      "Protective services                      0.016805\n",
      "Private household services               0.007892\n",
      "Armed Forces                             0.000364\n",
      "Name: major occupation code, dtype: float64\n"
     ]
    },
    {
     "data": {
      "image/png": "[encoded data removed]",
      "text/plain": [
       "<Figure size 432x288 with 1 Axes>"
      ]
     },
     "metadata": {
      "needs_background": "light"
     },
     "output_type": "display_data"
    }
   ],
   "source": [
    "column = census['major occupation code']\n",
    "column = column.loc[(column!='Not in universe')] # Select only rows with non-zero value\n",
    "values = column.value_counts(normalize=True)\n",
    "print(values)\n",
    "values.plot.bar()\n",
    "plt.title(column.name)\n",
    "plt.show()"
   ]
  },
  {
   "cell_type": "markdown",
   "metadata": {},
   "source": [
    "### Race and hispanic origin"
   ]
  },
  {
   "cell_type": "code",
   "execution_count": 23,
   "metadata": {},
   "outputs": [
    {
     "name": "stdout",
     "output_type": "stream",
     "text": [
      "White                          0.838826\n",
      "Black                          0.102319\n",
      "Asian or Pacific Islander      0.029245\n",
      "Other                          0.018329\n",
      "Amer Indian Aleut or Eskimo    0.011282\n",
      "Name: race, dtype: float64\n"
     ]
    },
    {
     "data": {
      "image/png": "[encoded data removed]",
      "text/plain": [
       "<Figure size 432x288 with 1 Axes>"
      ]
     },
     "metadata": {
      "needs_background": "light"
     },
     "output_type": "display_data"
    }
   ],
   "source": [
    "column = census['race']\n",
    "values = column.value_counts(normalize=True)\n",
    "print(values)\n",
    "values.plot.bar()\n",
    "plt.title(column.name)\n",
    "plt.show()"
   ]
  },
  {
   "cell_type": "code",
   "execution_count": 24,
   "metadata": {},
   "outputs": [
    {
     "name": "stdout",
     "output_type": "stream",
     "text": [
      "All other                    0.865381\n",
      "Mexican-American             0.040670\n",
      "Mexican (Mexicano)           0.036416\n",
      "Central or South American    0.019607\n",
      "Puerto Rican                 0.016678\n",
      "Other Spanish                0.012510\n",
      "Cuban                        0.005668\n",
      "Do not know                  0.001540\n",
      "Chicano                      0.001530\n",
      "Name: hispanic origin, dtype: float64\n"
     ]
    },
    {
     "data": {
      "image/png": "[encoded data removed]",
      "text/plain": [
       "<Figure size 432x288 with 1 Axes>"
      ]
     },
     "metadata": {
      "needs_background": "light"
     },
     "output_type": "display_data"
    }
   ],
   "source": [
    "column = census['hispanic origin']\n",
    "values = column.value_counts(normalize=True)\n",
    "print(values)\n",
    "values.plot.bar()\n",
    "plt.title(column.name)\n",
    "plt.show()"
   ]
  },
  {
   "cell_type": "markdown",
   "metadata": {},
   "source": [
    "### Sex"
   ]
  },
  {
   "cell_type": "code",
   "execution_count": 25,
   "metadata": {},
   "outputs": [
    {
     "name": "stdout",
     "output_type": "stream",
     "text": [
      "Female    0.521163\n",
      "Male      0.478837\n",
      "Name: sex, dtype: float64\n"
     ]
    },
    {
     "data": {
      "image/png": "[encoded data removed]",
      "text/plain": [
       "<Figure size 432x288 with 1 Axes>"
      ]
     },
     "metadata": {
      "needs_background": "light"
     },
     "output_type": "display_data"
    }
   ],
   "source": [
    "column = census['sex']\n",
    "values = column.value_counts(normalize=True)\n",
    "print(values)\n",
    "values.plot.bar()\n",
    "plt.title(column.name)\n",
    "plt.show()"
   ]
  },
  {
   "cell_type": "markdown",
   "metadata": {},
   "source": [
    "That's a sex ratio of 0.919 males/female, which is pretty significant considering the natural birth sex ratio is [estimated to be around 1.06 males/female](https://en.wikipedia.org/wiki/Human_sex_ratio)! Seems in the US the adult male is more likely to die young than the typical female (more likely to be a victim of homicide, more likely to die in an accident). Combined with an aging populaion, this produces a significant imbalance in distribution of age with respect to gender."
   ]
  },
  {
   "cell_type": "markdown",
   "metadata": {},
   "source": [
    "This was supposed to just be a univariate analysis but this is quite interesting! Let's see if my hypothesis that the sex imbalance is correlated with an aging female population holds true."
   ]
  },
  {
   "cell_type": "code",
   "execution_count": 26,
   "metadata": {},
   "outputs": [],
   "source": [
    "columns = census[['age','sex']]"
   ]
  },
  {
   "cell_type": "code",
   "execution_count": 27,
   "metadata": {},
   "outputs": [
    {
     "data": {
      "text/plain": [
       "count    103984.000000\n",
       "mean         35.618230\n",
       "std          22.733951\n",
       "min           0.000000\n",
       "25%          16.000000\n",
       "50%          34.000000\n",
       "75%          51.000000\n",
       "max          90.000000\n",
       "Name: age, dtype: float64"
      ]
     },
     "execution_count": 27,
     "metadata": {},
     "output_type": "execute_result"
    }
   ],
   "source": [
    "female_mask = (columns['sex'] == 'Female')\n",
    "female_ages = columns.loc[female_mask,'age']\n",
    "female_ages.describe()"
   ]
  },
  {
   "cell_type": "code",
   "execution_count": 28,
   "metadata": {},
   "outputs": [
    {
     "data": {
      "text/plain": [
       "count    95539.000000\n",
       "mean        33.270811\n",
       "std         21.775410\n",
       "min          0.000000\n",
       "25%         14.000000\n",
       "50%         32.000000\n",
       "75%         48.000000\n",
       "max         90.000000\n",
       "Name: age, dtype: float64"
      ]
     },
     "execution_count": 28,
     "metadata": {},
     "output_type": "execute_result"
    }
   ],
   "source": [
    "male_mask = (columns['sex'] == 'Male')\n",
    "male_ages = columns.loc[male_mask,'age']\n",
    "male_ages.describe()"
   ]
  },
  {
   "cell_type": "markdown",
   "metadata": {},
   "source": [
    "The mean and median age of males is indeed lower. Let's look at the actual distribution..."
   ]
  },
  {
   "cell_type": "code",
   "execution_count": 29,
   "metadata": {},
   "outputs": [
    {
     "data": {
      "image/png": "[encoded data removed]",
      "text/plain": [
       "<Figure size 432x288 with 1 Axes>"
      ]
     },
     "metadata": {
      "needs_background": "light"
     },
     "output_type": "display_data"
    }
   ],
   "source": [
    "# Plot histogram of both male and female ages\n",
    "f, ax = plt.subplots()\n",
    "\n",
    "sns.distplot(male_ages,bins=91,kde=False, ax=ax)\n",
    "sns.distplot(female_ages,bins=91,kde=False, ax=ax)\n",
    "plt.legend(['Male','Female'])\n",
    "plt.xlim([0,90])\n",
    "plt.show()"
   ]
  },
  {
   "cell_type": "markdown",
   "metadata": {},
   "source": [
    "Yes, more males at birth, but the male mortality rate is also higher and above ~18 years old there are more females, and there are approximately twice as many 90+ females than male. Interesting!"
   ]
  },
  {
   "cell_type": "markdown",
   "metadata": {},
   "source": [
    "### Member of a labour union"
   ]
  },
  {
   "cell_type": "code",
   "execution_count": 30,
   "metadata": {},
   "outputs": [
    {
     "name": "stdout",
     "output_type": "stream",
     "text": [
      "Unclassified percentage: 90.4%\n"
     ]
    }
   ],
   "source": [
    "column = census['member of a labor union']\n",
    "percentearningnothing = column.loc[(column=='Not in universe')].count()/len(census)\n",
    "print('Unclassified percentage: {:2.1f}%'.format(percentearningnothing*100))"
   ]
  },
  {
   "cell_type": "markdown",
   "metadata": {},
   "source": [
    "Seems most people are missing this data. For people where this data is provided:"
   ]
  },
  {
   "cell_type": "code",
   "execution_count": 31,
   "metadata": {},
   "outputs": [
    {
     "name": "stdout",
     "output_type": "stream",
     "text": [
      "No     0.841062\n",
      "Yes    0.158938\n",
      "Name: member of a labor union, dtype: float64\n"
     ]
    },
    {
     "data": {
      "image/png": "[encoded data removed]",
      "text/plain": [
       "<Figure size 432x288 with 1 Axes>"
      ]
     },
     "metadata": {
      "needs_background": "light"
     },
     "output_type": "display_data"
    }
   ],
   "source": [
    "column = census['member of a labor union']\n",
    "column = column.loc[(column!='Not in universe')] # Select only rows with non-zero value\n",
    "values = column.value_counts(normalize=True)\n",
    "print(values)\n",
    "values.plot.bar()\n",
    "plt.title(column.name)\n",
    "plt.show()"
   ]
  },
  {
   "cell_type": "markdown",
   "metadata": {},
   "source": [
    "### Reason for unemployment"
   ]
  },
  {
   "cell_type": "code",
   "execution_count": 32,
   "metadata": {},
   "outputs": [
    {
     "name": "stdout",
     "output_type": "stream",
     "text": [
      "Unclassified percentage: 97.0%\n"
     ]
    }
   ],
   "source": [
    "column = census['reason for unemployment']\n",
    "percentearningnothing = column.loc[(column=='Not in universe')].count()/len(census)\n",
    "print('Unclassified percentage: {:2.1f}%'.format(percentearningnothing*100))"
   ]
  },
  {
   "cell_type": "markdown",
   "metadata": {},
   "source": [
    "Most people are employed, retired, or children, or are missing this data. Neglecting these:"
   ]
  },
  {
   "cell_type": "code",
   "execution_count": 33,
   "metadata": {},
   "outputs": [
    {
     "name": "stdout",
     "output_type": "stream",
     "text": [
      "Other job loser          0.335750\n",
      "Re-entrant               0.332619\n",
      "Job loser - on layoff    0.160791\n",
      "Job leaver               0.098517\n",
      "New entrant              0.072323\n",
      "Name: reason for unemployment, dtype: float64\n"
     ]
    },
    {
     "data": {
      "image/png": "[encoded data removed]",
      "text/plain": [
       "<Figure size 432x288 with 1 Axes>"
      ]
     },
     "metadata": {
      "needs_background": "light"
     },
     "output_type": "display_data"
    }
   ],
   "source": [
    "column = census['reason for unemployment']\n",
    "column = column.loc[(column!='Not in universe')] # Select only rows with non-zero value\n",
    "values = column.value_counts(normalize=True)\n",
    "print(values)\n",
    "values.plot.bar()\n",
    "plt.title(column.name)\n",
    "plt.show()"
   ]
  },
  {
   "cell_type": "markdown",
   "metadata": {},
   "source": [
    "### Employment status"
   ]
  },
  {
   "cell_type": "code",
   "execution_count": 34,
   "metadata": {},
   "outputs": [
    {
     "name": "stdout",
     "output_type": "stream",
     "text": [
      "Unclassified percentage: 0.0%\n"
     ]
    }
   ],
   "source": [
    "column = census['full or part time employment stat']\n",
    "percentearningnothing = column.loc[(column=='Not in universe')].count()/len(census)\n",
    "print('Unclassified percentage: {:2.1f}%'.format(percentearningnothing*100))"
   ]
  },
  {
   "cell_type": "code",
   "execution_count": 35,
   "metadata": {},
   "outputs": [
    {
     "name": "stdout",
     "output_type": "stream",
     "text": [
      "Children or Armed Forces              0.620324\n",
      "Full-time schedules                   0.204167\n",
      "Not in labor force                    0.134360\n",
      "PT for non-econ reasons usually FT    0.016650\n",
      "Unemployed full-time                  0.011583\n",
      "PT for econ reasons usually PT        0.006059\n",
      "Unemployed part- time                 0.004225\n",
      "PT for econ reasons usually FT        0.002631\n",
      "Name: full or part time employment stat, dtype: float64\n"
     ]
    },
    {
     "data": {
      "image/png": "[encoded data removed]",
      "text/plain": [
       "<Figure size 432x288 with 1 Axes>"
      ]
     },
     "metadata": {
      "needs_background": "light"
     },
     "output_type": "display_data"
    }
   ],
   "source": [
    "column = census['full or part time employment stat']\n",
    "column = column.loc[(column!='Not in universe')] # Select only rows with non-zero value\n",
    "values = column.value_counts(normalize=True)\n",
    "print(values)\n",
    "values.plot.bar()\n",
    "plt.title(column.name)\n",
    "plt.show()"
   ]
  },
  {
   "cell_type": "markdown",
   "metadata": {},
   "source": [
    "Kinda weird that children are lumped in with armed forces, but okay..."
   ]
  },
  {
   "cell_type": "markdown",
   "metadata": {},
   "source": [
    "### Capital gains and losses"
   ]
  },
  {
   "cell_type": "code",
   "execution_count": 36,
   "metadata": {},
   "outputs": [
    {
     "name": "stdout",
     "output_type": "stream",
     "text": [
      "Percent with zero capital gains: 96.3%\n"
     ]
    }
   ],
   "source": [
    "column = census['capital gains']\n",
    "percentearningnothing = column.loc[(column==0)].count()/len(census)\n",
    "print('Percent with zero capital gains: {:2.1f}%'.format(percentearningnothing*100))"
   ]
  },
  {
   "cell_type": "markdown",
   "metadata": {},
   "source": [
    "Most people probably are not investing, or not reporting their capital gains."
   ]
  },
  {
   "cell_type": "code",
   "execution_count": 37,
   "metadata": {},
   "outputs": [
    {
     "data": {
      "text/plain": [
       "count     7379.000000\n",
       "mean     11754.497493\n",
       "std      21533.053259\n",
       "min        114.000000\n",
       "25%       2964.000000\n",
       "50%       5178.000000\n",
       "75%      10520.000000\n",
       "max      99999.000000\n",
       "Name: capital gains, dtype: float64"
      ]
     },
     "execution_count": 37,
     "metadata": {},
     "output_type": "execute_result"
    }
   ],
   "source": [
    "column = census['capital gains']\n",
    "column = column.loc[(column!=0)] # Select only rows with non-zero value\n",
    "column.describe()"
   ]
  },
  {
   "cell_type": "code",
   "execution_count": 38,
   "metadata": {},
   "outputs": [
    {
     "data": {
      "image/png": "[encoded data removed]",
      "text/plain": [
       "<Figure size 432x288 with 2 Axes>"
      ]
     },
     "metadata": {
      "needs_background": "light"
     },
     "output_type": "display_data"
    }
   ],
   "source": [
    "column = census['capital gains']\n",
    "column = column.loc[(column!=0)] # Select only rows with non-zero value\n",
    "\n",
    "# Generate two axes on figure\n",
    "f, (ax_box, ax_hist) = plt.subplots(2, sharex=True, gridspec_kw={\"height_ratios\": (.2,.8)})\n",
    " \n",
    "# Plot histogram and boxplot\n",
    "sns.distplot(column,bins=100,kde=False, ax=ax_hist)\n",
    "sns.boxplot(column, ax=ax_box)\n",
    "\n",
    "ax_box.set(xlabel='')\n",
    "ax_box.set(title=column.name)\n",
    "plt.show()"
   ]
  },
  {
   "cell_type": "markdown",
   "metadata": {},
   "source": [
    "This column seems to be capped at 99999"
   ]
  },
  {
   "cell_type": "code",
   "execution_count": 39,
   "metadata": {},
   "outputs": [
    {
     "name": "stdout",
     "output_type": "stream",
     "text": [
      "Percent with zero capital losses: 98.0%\n"
     ]
    }
   ],
   "source": [
    "column = census['capital losses']\n",
    "percentearningnothing = column.loc[(column==0)].count()/len(census)\n",
    "print('Percent with zero capital losses: {:2.1f}%'.format(percentearningnothing*100))"
   ]
  },
  {
   "cell_type": "code",
   "execution_count": 40,
   "metadata": {},
   "outputs": [
    {
     "data": {
      "text/plain": [
       "count    3906.000000\n",
       "mean     1906.031490\n",
       "std       463.154428\n",
       "min       155.000000\n",
       "25%      1669.000000\n",
       "50%      1887.000000\n",
       "75%      2001.000000\n",
       "max      4608.000000\n",
       "Name: capital losses, dtype: float64"
      ]
     },
     "execution_count": 40,
     "metadata": {},
     "output_type": "execute_result"
    }
   ],
   "source": [
    "column = census['capital losses']\n",
    "column = column.loc[(column!=0)] # Select only rows with non-zero value\n",
    "column.describe()"
   ]
  },
  {
   "cell_type": "code",
   "execution_count": 41,
   "metadata": {},
   "outputs": [
    {
     "data": {
      "image/png": "[encoded data removed]",
      "text/plain": [
       "<Figure size 432x288 with 2 Axes>"
      ]
     },
     "metadata": {
      "needs_background": "light"
     },
     "output_type": "display_data"
    }
   ],
   "source": [
    "column = census['capital losses']\n",
    "column = column.loc[(column!=0)] # Select only rows with non-zero value\n",
    "\n",
    "# Generate two axes on figure\n",
    "f, (ax_box, ax_hist) = plt.subplots(2, sharex=True, gridspec_kw={\"height_ratios\": (.2,.8)})\n",
    " \n",
    "# Plot histogram and boxplot\n",
    "sns.distplot(column,bins=100,kde=False, ax=ax_hist)\n",
    "sns.boxplot(column, ax=ax_box)\n",
    "\n",
    "ax_box.set(xlabel='')\n",
    "ax_box.set(title=column.name)\n",
    "plt.show()"
   ]
  },
  {
   "cell_type": "markdown",
   "metadata": {},
   "source": [
    "### Dividends from stocks"
   ]
  },
  {
   "cell_type": "code",
   "execution_count": 42,
   "metadata": {},
   "outputs": [
    {
     "name": "stdout",
     "output_type": "stream",
     "text": [
      "Percent with zero dividends: 89.4%\n"
     ]
    }
   ],
   "source": [
    "column = census['dividends from stocks']\n",
    "percentearningnothing = column.loc[(column==0)].count()/len(census)\n",
    "print('Percent with zero dividends: {:2.1f}%'.format(percentearningnothing*100))"
   ]
  },
  {
   "cell_type": "markdown",
   "metadata": {},
   "source": [
    "Most people probably are not investing."
   ]
  },
  {
   "cell_type": "code",
   "execution_count": 43,
   "metadata": {},
   "outputs": [
    {
     "data": {
      "text/plain": [
       "count    21141.000000\n",
       "mean      1864.229932\n",
       "std       5835.216597\n",
       "min          1.000000\n",
       "25%         82.000000\n",
       "50%        301.000000\n",
       "75%       1362.000000\n",
       "max      99999.000000\n",
       "Name: dividends from stocks, dtype: float64"
      ]
     },
     "execution_count": 43,
     "metadata": {},
     "output_type": "execute_result"
    }
   ],
   "source": [
    "column = census['dividends from stocks']\n",
    "column = column.loc[(column!=0)] # Select only rows with non-zero value\n",
    "column.describe()"
   ]
  },
  {
   "cell_type": "code",
   "execution_count": 44,
   "metadata": {},
   "outputs": [
    {
     "data": {
      "image/png": "[encoded data removed]",
      "text/plain": [
       "<Figure size 432x288 with 2 Axes>"
      ]
     },
     "metadata": {
      "needs_background": "light"
     },
     "output_type": "display_data"
    }
   ],
   "source": [
    "column = census['dividends from stocks']\n",
    "column = column.loc[(column!=0)] # Select only rows with non-zero value\n",
    "\n",
    "# Generate two axes on figure\n",
    "f, (ax_box, ax_hist) = plt.subplots(2, sharex=True, gridspec_kw={\"height_ratios\": (.2,.8)})\n",
    " \n",
    "# Plot histogram and boxplot\n",
    "sns.distplot(column,bins=100,kde=False, ax=ax_hist)\n",
    "sns.boxplot(column, ax=ax_box)\n",
    "\n",
    "ax_box.set(xlabel='')\n",
    "ax_box.set(title=column.name)\n",
    "plt.show()"
   ]
  },
  {
   "cell_type": "markdown",
   "metadata": {},
   "source": [
    "### Tax filer status"
   ]
  },
  {
   "cell_type": "code",
   "execution_count": 45,
   "metadata": {},
   "outputs": [
    {
     "name": "stdout",
     "output_type": "stream",
     "text": [
      "Unclassified percentage: 0.0%\n"
     ]
    }
   ],
   "source": [
    "column = census['tax filer stat']\n",
    "percentearningnothing = column.loc[(column=='Not in universe')].count()/len(census)\n",
    "print('Unclassified percentage: {:2.1f}%'.format(percentearningnothing*100))"
   ]
  },
  {
   "cell_type": "code",
   "execution_count": 46,
   "metadata": {},
   "outputs": [
    {
     "name": "stdout",
     "output_type": "stream",
     "text": [
      "Nonfiler                        0.376368\n",
      "Joint both under 65             0.337720\n",
      "Single                          0.187552\n",
      "Joint both 65+                  0.041760\n",
      "Head of household               0.037219\n",
      "Joint one under 65 & one 65+    0.019381\n",
      "Name: tax filer stat, dtype: float64\n"
     ]
    },
    {
     "data": {
      "image/png": "[encoded data removed]",
      "text/plain": [
       "<Figure size 432x288 with 1 Axes>"
      ]
     },
     "metadata": {
      "needs_background": "light"
     },
     "output_type": "display_data"
    }
   ],
   "source": [
    "column = census['tax filer stat']\n",
    "column = column.loc[(column!='Not in universe')] # Select only rows with non-zero value\n",
    "values = column.value_counts(normalize=True)\n",
    "print(values)\n",
    "values.plot.bar()\n",
    "plt.title(column.name)\n",
    "plt.show()"
   ]
  },
  {
   "cell_type": "markdown",
   "metadata": {},
   "source": [
    "### Previous residence"
   ]
  },
  {
   "cell_type": "code",
   "execution_count": 47,
   "metadata": {},
   "outputs": [
    {
     "name": "stdout",
     "output_type": "stream",
     "text": [
      "Unclassified percentage: 92.1%\n"
     ]
    }
   ],
   "source": [
    "column = census['region of previous residence']\n",
    "percentearningnothing = column.loc[(column=='Not in universe')].count()/len(census)\n",
    "print('Unclassified percentage: {:2.1f}%'.format(percentearningnothing*100))"
   ]
  },
  {
   "cell_type": "markdown",
   "metadata": {},
   "source": [
    "Unclassified likely includes missing data and people who have not moved"
   ]
  },
  {
   "cell_type": "code",
   "execution_count": 48,
   "metadata": {},
   "outputs": [
    {
     "name": "stdout",
     "output_type": "stream",
     "text": [
      "Not in universe    0.920946\n",
      "South              0.024503\n",
      "West               0.020419\n",
      "Midwest            0.017918\n",
      "Northeast          0.013557\n",
      "Abroad             0.002656\n",
      "Name: region of previous residence, dtype: float64\n"
     ]
    },
    {
     "data": {
      "image/png": "[encoded data removed]",
      "text/plain": [
       "<Figure size 432x288 with 1 Axes>"
      ]
     },
     "metadata": {
      "needs_background": "light"
     },
     "output_type": "display_data"
    }
   ],
   "source": [
    "column = census['region of previous residence']\n",
    "#column = column.loc[(column!='Not in universe')] # Select only rows with non-zero value\n",
    "values = column.value_counts(normalize=True)\n",
    "print(values)\n",
    "values.plot.bar()\n",
    "plt.title(column.name)\n",
    "plt.show()"
   ]
  },
  {
   "cell_type": "code",
   "execution_count": 49,
   "metadata": {},
   "outputs": [
    {
     "name": "stdout",
     "output_type": "stream",
     "text": [
      "Unclassified percentage: 92.1%\n"
     ]
    }
   ],
   "source": [
    "column = census['state of previous residence']\n",
    "percentearningnothing = column.loc[(column=='Not in universe')].count()/len(census)\n",
    "print('Unclassified percentage: {:2.1f}%'.format(percentearningnothing*100))"
   ]
  },
  {
   "cell_type": "markdown",
   "metadata": {},
   "source": [
    "Unclassified likely includes missing data and people who have not moved"
   ]
  },
  {
   "cell_type": "code",
   "execution_count": 50,
   "metadata": {},
   "outputs": [
    {
     "name": "stdout",
     "output_type": "stream",
     "text": [
      "California              0.113774\n",
      "Utah                    0.070561\n",
      "Florida                 0.056356\n",
      "North Carolina          0.053900\n",
      "Abroad                  0.044540\n",
      "Oklahoma                0.041553\n",
      "Minnesota               0.038234\n",
      "Indiana                 0.035380\n",
      "North Dakota            0.033123\n",
      "New Mexico              0.030733\n",
      "Michigan                0.029273\n",
      "Alaska                  0.019250\n",
      "Kentucky                0.016196\n",
      "Arizona                 0.016130\n",
      "New Hampshire           0.016064\n",
      "Wyoming                 0.015997\n",
      "Colorado                0.015865\n",
      "Oregon                  0.015665\n",
      "West Virginia           0.015334\n",
      "Georgia                 0.015068\n",
      "Montana                 0.015002\n",
      "Alabama                 0.014338\n",
      "Ohio                    0.014006\n",
      "Texas                   0.013873\n",
      "Arkansas                0.013608\n",
      "Mississippi             0.013541\n",
      "Tennessee               0.013409\n",
      "Pennsylvania            0.013209\n",
      "New York                0.012944\n",
      "Louisiana               0.012745\n",
      "Vermont                 0.012678\n",
      "Iowa                    0.012546\n",
      "Illinois                0.011948\n",
      "Nebraska                0.011815\n",
      "Missouri                0.011616\n",
      "Nevada                  0.011550\n",
      "Maine                   0.011085\n",
      "Massachusetts           0.010023\n",
      "Kansas                  0.009890\n",
      "South Dakota            0.009160\n",
      "Maryland                0.009028\n",
      "Virginia                0.008364\n",
      "Connecticut             0.007766\n",
      "District of Columbia    0.007700\n",
      "Wisconsin               0.006970\n",
      "South Carolina          0.006306\n",
      "New Jersey              0.004978\n",
      "Delaware                0.004846\n",
      "Idaho                   0.002058\n",
      "Name: state of previous residence, dtype: float64\n"
     ]
    }
   ],
   "source": [
    "column = census['state of previous residence']\n",
    "column = column.loc[(column!='Not in universe')] # Select only rows with non-zero value\n",
    "values = column.value_counts(normalize=True)\n",
    "print(values)\n",
    "#values.plot.bar()\n",
    "#plt.title(column.name)\n",
    "#plt.show()"
   ]
  },
  {
   "cell_type": "markdown",
   "metadata": {},
   "source": [
    "### Household and family"
   ]
  },
  {
   "cell_type": "code",
   "execution_count": 51,
   "metadata": {},
   "outputs": [
    {
     "name": "stdout",
     "output_type": "stream",
     "text": [
      "Householder                                        0.266877\n",
      "Child <18 never marr not in subfamily              0.252232\n",
      "Spouse of householder                              0.208973\n",
      "Nonfamily householder                              0.111331\n",
      "Child 18+ never marr Not in a subfamily            0.060294\n",
      "Secondary individual                               0.030683\n",
      "Other Rel 18+ ever marr not in subfamily           0.009803\n",
      "Grandchild <18 never marr child of subfamily RP    0.009362\n",
      "Other Rel 18+ never marr not in subfamily          0.008661\n",
      "Grandchild <18 never marr not in subfamily         0.005343\n",
      "Child 18+ ever marr Not in a subfamily             0.005077\n",
      "Child under 18 of RP of unrel subfamily            0.003669\n",
      "RP of unrelated subfamily                          0.003433\n",
      "Child 18+ ever marr RP of subfamily                0.003363\n",
      "Other Rel 18+ ever marr RP of subfamily            0.003288\n",
      "Other Rel <18 never marr child of subfamily RP     0.003288\n",
      "Other Rel 18+ spouse of subfamily RP               0.003198\n",
      "Child 18+ never marr RP of subfamily               0.002952\n",
      "Other Rel <18 never marr not in subfamily          0.002927\n",
      "Grandchild 18+ never marr not in subfamily         0.001879\n",
      "In group quarters                                  0.000982\n",
      "Child 18+ spouse of subfamily RP                   0.000632\n",
      "Other Rel 18+ never marr RP of subfamily           0.000471\n",
      "Child <18 never marr RP of subfamily               0.000401\n",
      "Spouse of RP of unrelated subfamily                0.000261\n",
      "Child <18 ever marr not in subfamily               0.000180\n",
      "Grandchild 18+ ever marr not in subfamily          0.000170\n",
      "Grandchild 18+ spouse of subfamily RP              0.000050\n",
      "Grandchild 18+ ever marr RP of subfamily           0.000045\n",
      "Child <18 ever marr RP of subfamily                0.000045\n",
      "Other Rel <18 ever marr RP of subfamily            0.000030\n",
      "Grandchild 18+ never marr RP of subfamily          0.000030\n",
      "Other Rel <18 never married RP of subfamily        0.000020\n",
      "Other Rel <18 spouse of subfamily RP               0.000015\n",
      "Child <18 spouse of subfamily RP                   0.000010\n",
      "Grandchild <18 ever marr not in subfamily          0.000010\n",
      "Grandchild <18 never marr RP of subfamily          0.000010\n",
      "Other Rel <18 ever marr not in subfamily           0.000005\n",
      "Name: detailed household and family stat, dtype: float64\n"
     ]
    }
   ],
   "source": [
    "column = census['detailed household and family stat']\n",
    "column = column.loc[(column!='Not in universe')] # Select only rows with non-zero value\n",
    "values = column.value_counts(normalize=True)\n",
    "print(values)\n",
    "#values.plot.bar()\n",
    "#plt.title(column.name)\n",
    "#plt.show()"
   ]
  },
  {
   "cell_type": "code",
   "execution_count": 52,
   "metadata": {},
   "outputs": [
    {
     "name": "stdout",
     "output_type": "stream",
     "text": [
      "Householder                             0.378277\n",
      "Child under 18 never married            0.252733\n",
      "Spouse of householder                   0.209044\n",
      "Child 18 or older                       0.072322\n",
      "Other relative of householder           0.048631\n",
      "Nonrelative of householder              0.038096\n",
      "Group Quarters- Secondary individual    0.000662\n",
      "Child under 18 ever married             0.000236\n",
      "Name: detailed household summary in household, dtype: float64\n"
     ]
    }
   ],
   "source": [
    "column = census['detailed household summary in household']\n",
    "column = column.loc[(column!='Not in universe')] # Select only rows with non-zero value\n",
    "values = column.value_counts(normalize=True)\n",
    "print(values)\n",
    "#values.plot.bar()\n",
    "#plt.title(column.name)\n",
    "#plt.show()"
   ]
  },
  {
   "cell_type": "code",
   "execution_count": 53,
   "metadata": {},
   "outputs": [
    {
     "name": "stdout",
     "output_type": "stream",
     "text": [
      "Both parents present      0.705051\n",
      "Mother only present       0.230996\n",
      "Father only present       0.034056\n",
      "Neither parent present    0.029896\n",
      "Name: family members under 18, dtype: float64\n"
     ]
    },
    {
     "data": {
      "image/png": "[encoded data removed]",
      "text/plain": [
       "<Figure size 432x288 with 1 Axes>"
      ]
     },
     "metadata": {
      "needs_background": "light"
     },
     "output_type": "display_data"
    }
   ],
   "source": [
    "column = census['family members under 18']\n",
    "column = column.loc[(column!='Not in universe')] # Select only rows with non-zero value\n",
    "values = column.value_counts(normalize=True)\n",
    "print(values)\n",
    "values.plot.bar()\n",
    "plt.title(column.name)\n",
    "plt.show()"
   ]
  },
  {
   "cell_type": "markdown",
   "metadata": {},
   "source": [
    "### Migration"
   ]
  },
  {
   "cell_type": "code",
   "execution_count": 54,
   "metadata": {},
   "outputs": [
    {
     "name": "stdout",
     "output_type": "stream",
     "text": [
      "Unclassified percentage: 0.8%\n"
     ]
    }
   ],
   "source": [
    "column = census['migration code-change in msa']\n",
    "percentearningnothing = column.loc[(column=='Not in universe')].count()/len(census)\n",
    "print('Unclassified percentage: {:2.1f}%'.format(percentearningnothing*100))"
   ]
  },
  {
   "cell_type": "code",
   "execution_count": 55,
   "metadata": {},
   "outputs": [
    {
     "name": "stdout",
     "output_type": "stream",
     "text": [
      "Nonmover            0.826810\n",
      "MSA to MSA          0.106194\n",
      "NonMSA to nonMSA    0.028159\n",
      "Not in universe     0.015186\n",
      "MSA to nonMSA       0.007914\n",
      "NonMSA to MSA       0.006161\n",
      "Abroad to MSA       0.004538\n",
      "Not identifiable    0.004307\n",
      "Abroad to nonMSA    0.000731\n",
      "Name: migration code-change in msa, dtype: float64\n"
     ]
    },
    {
     "data": {
      "image/png": "[encoded data removed]",
      "text/plain": [
       "<Figure size 432x288 with 1 Axes>"
      ]
     },
     "metadata": {
      "needs_background": "light"
     },
     "output_type": "display_data"
    }
   ],
   "source": [
    "column = census['migration code-change in msa']\n",
    "#column = column.loc[(column!='Not in universe')] # Select only rows with non-zero value\n",
    "values = column.value_counts(normalize=True)\n",
    "print(values)\n",
    "values.plot.bar()\n",
    "plt.title(column.name)\n",
    "plt.show()"
   ]
  },
  {
   "cell_type": "code",
   "execution_count": 56,
   "metadata": {},
   "outputs": [
    {
     "name": "stdout",
     "output_type": "stream",
     "text": [
      "Unclassified percentage: 0.8%\n"
     ]
    }
   ],
   "source": [
    "column = census['migration code-change in reg']\n",
    "percentearningnothing = column.loc[(column=='Not in universe')].count()/len(census)\n",
    "print('Unclassified percentage: {:2.1f}%'.format(percentearningnothing*100))"
   ]
  },
  {
   "cell_type": "code",
   "execution_count": 57,
   "metadata": {},
   "outputs": [
    {
     "name": "stdout",
     "output_type": "stream",
     "text": [
      "Nonmover                          0.826810\n",
      "Same county                       0.098290\n",
      "Different county same state       0.028018\n",
      "Not in universe                   0.015186\n",
      "Different region                  0.011800\n",
      "Different state same division     0.009927\n",
      "Abroad                            0.005309\n",
      "Different division same region    0.004658\n",
      "Name: migration code-change in reg, dtype: float64\n"
     ]
    },
    {
     "data": {
      "image/png": "[encoded data removed]",
      "text/plain": [
       "<Figure size 432x288 with 1 Axes>"
      ]
     },
     "metadata": {
      "needs_background": "light"
     },
     "output_type": "display_data"
    }
   ],
   "source": [
    "column = census['migration code-change in reg']\n",
    "#column = column.loc[(column!='Not in universe')] # Select only rows with non-zero value\n",
    "values = column.value_counts(normalize=True)\n",
    "print(values)\n",
    "values.plot.bar()\n",
    "plt.title(column.name)\n",
    "plt.show()"
   ]
  },
  {
   "cell_type": "code",
   "execution_count": 58,
   "metadata": {},
   "outputs": [
    {
     "name": "stdout",
     "output_type": "stream",
     "text": [
      "Unclassified percentage: 0.8%\n"
     ]
    }
   ],
   "source": [
    "column = census['migration code-move within reg']\n",
    "percentearningnothing = column.loc[(column=='Not in universe')].count()/len(census)\n",
    "print('Unclassified percentage: {:2.1f}%'.format(percentearningnothing*100))"
   ]
  },
  {
   "cell_type": "code",
   "execution_count": 59,
   "metadata": {},
   "outputs": [
    {
     "name": "stdout",
     "output_type": "stream",
     "text": [
      "Nonmover                        0.826810\n",
      "Same county                     0.098290\n",
      "Different county same state     0.028018\n",
      "Not in universe                 0.015186\n",
      "Different state in South        0.009747\n",
      "Different state in West         0.006802\n",
      "Different state in Midwest      0.005520\n",
      "Abroad                          0.005309\n",
      "Different state in Northeast    0.004317\n",
      "Name: migration code-move within reg, dtype: float64\n"
     ]
    },
    {
     "data": {
      "image/png": "[encoded data removed]",
      "text/plain": [
       "<Figure size 432x288 with 1 Axes>"
      ]
     },
     "metadata": {
      "needs_background": "light"
     },
     "output_type": "display_data"
    }
   ],
   "source": [
    "column = census['migration code-move within reg']\n",
    "#column = column.loc[(column!='Not in universe')] # Select only rows with non-zero value\n",
    "values = column.value_counts(normalize=True)\n",
    "print(values)\n",
    "values.plot.bar()\n",
    "plt.title(column.name)\n",
    "plt.show()"
   ]
  },
  {
   "cell_type": "code",
   "execution_count": 60,
   "metadata": {},
   "outputs": [
    {
     "name": "stdout",
     "output_type": "stream",
     "text": [
      "Not in universe under 1 year old    0.507270\n",
      "Yes                                 0.413677\n",
      "No                                  0.079054\n",
      "Name: live in this house 1 year ago, dtype: float64\n"
     ]
    },
    {
     "data": {
      "image/png": "[encoded data removed]",
      "text/plain": [
       "<Figure size 432x288 with 1 Axes>"
      ]
     },
     "metadata": {
      "needs_background": "light"
     },
     "output_type": "display_data"
    }
   ],
   "source": [
    "column = census['live in this house 1 year ago']\n",
    "#column = column.loc[(column!='Not in universe')] # Select only rows with non-zero value\n",
    "values = column.value_counts(normalize=True)\n",
    "print(values)\n",
    "values.plot.bar()\n",
    "plt.title(column.name)\n",
    "plt.show()"
   ]
  },
  {
   "cell_type": "code",
   "execution_count": 61,
   "metadata": {},
   "outputs": [
    {
     "name": "stdout",
     "output_type": "stream",
     "text": [
      "Not in universe    0.841997\n",
      "No                 0.100043\n",
      "Yes                0.057960\n",
      "Name: migration prev res in sunbelt, dtype: float64\n"
     ]
    },
    {
     "data": {
      "image/png": "[encoded data removed]",
      "text/plain": [
       "<Figure size 432x288 with 1 Axes>"
      ]
     },
     "metadata": {
      "needs_background": "light"
     },
     "output_type": "display_data"
    }
   ],
   "source": [
    "column = census['migration prev res in sunbelt']\n",
    "#column = column.loc[(column!='Not in universe')] # Select only rows with non-zero value\n",
    "values = column.value_counts(normalize=True)\n",
    "print(values)\n",
    "values.plot.bar()\n",
    "plt.title(column.name)\n",
    "plt.show()"
   ]
  },
  {
   "cell_type": "markdown",
   "metadata": {},
   "source": [
    "### Num persons worked for employer"
   ]
  },
  {
   "cell_type": "code",
   "execution_count": 62,
   "metadata": {},
   "outputs": [
    {
     "name": "stdout",
     "output_type": "stream",
     "text": [
      "Percent with zero persons: 48.1%\n"
     ]
    }
   ],
   "source": [
    "column = census['num persons worked for employer']\n",
    "numberofzero = column.loc[(column==0)].count()/len(census)\n",
    "print('Percent with zero persons: {:2.1f}%'.format(numberofzero*100))"
   ]
  },
  {
   "cell_type": "markdown",
   "metadata": {},
   "source": [
    "Might include unknown values"
   ]
  },
  {
   "cell_type": "code",
   "execution_count": 63,
   "metadata": {},
   "outputs": [
    {
     "data": {
      "text/plain": [
       "0    95983\n",
       "1    23109\n",
       "2    10081\n",
       "3    13425\n",
       "4    14379\n",
       "5     6035\n",
       "6    36511\n",
       "Name: num persons worked for employer, dtype: int64"
      ]
     },
     "execution_count": 63,
     "metadata": {},
     "output_type": "execute_result"
    }
   ],
   "source": [
    "column = census['num persons worked for employer']\n",
    "#column = column.loc[(column!=0)] # Select only rows with non-zero value\n",
    "column.value_counts().sort_index()"
   ]
  },
  {
   "cell_type": "markdown",
   "metadata": {},
   "source": [
    "This column has six discrete values! Checking out the [technical documentation of the census](https://www2.census.gov/programs-surveys/cps/techdocs/cpsmar19.pdf), this is because the NOEMP statistic actually specifies a *range*, given by:\n",
    "- 0 = nil\n",
    "- 1 = under 10\n",
    "- 2 = 10 - 24\n",
    "- 3 = 25 - 99\n",
    "- 4 = 100 - 499\n",
    "- 5 = 500 - 999\n",
    "- 6 = 1000+"
   ]
  },
  {
   "cell_type": "code",
   "execution_count": 64,
   "metadata": {},
   "outputs": [
    {
     "name": "stdout",
     "output_type": "stream",
     "text": [
      "nil          0.481062\n",
      "under 10     0.115821\n",
      "10 - 24      0.050526\n",
      "25 - 99      0.067285\n",
      "100 - 499    0.072067\n",
      "500 - 999    0.030247\n",
      "1000+        0.182991\n",
      "Name: num persons worked for employer, dtype: float64\n"
     ]
    },
    {
     "data": {
      "image/png": "[encoded data removed]",
      "text/plain": [
       "<Figure size 432x288 with 1 Axes>"
      ]
     },
     "metadata": {
      "needs_background": "light"
     },
     "output_type": "display_data"
    }
   ],
   "source": [
    "values = column.value_counts(normalize=True).sort_index()\n",
    "values.index = ['nil','under 10','10 - 24','25 - 99','100 - 499','500 - 999','1000+']\n",
    "print(values)\n",
    "values.plot.bar()\n",
    "plt.title(column.name)\n",
    "plt.show()"
   ]
  },
  {
   "cell_type": "markdown",
   "metadata": {},
   "source": [
    "This creates an odd feature of the dataset where the values are categorical but ordered, with categories of unequal size. "
   ]
  },
  {
   "cell_type": "markdown",
   "metadata": {},
   "source": [
    "### Citizenship"
   ]
  },
  {
   "cell_type": "markdown",
   "metadata": {},
   "source": [
    "There are too many categories in this to easily discern on a bar chart. We can just as easily get the same information by just looking at the numbers themselves."
   ]
  },
  {
   "cell_type": "code",
   "execution_count": 65,
   "metadata": {},
   "outputs": [
    {
     "name": "stdout",
     "output_type": "stream",
     "text": [
      "United-States                   0.825491\n",
      "Mexico                          0.051906\n",
      "Puerto-Rico                     0.013900\n",
      "Italy                           0.011472\n",
      "Canada                          0.007157\n",
      "Germany                         0.007033\n",
      "Dominican-Republic              0.006691\n",
      "Poland                          0.006286\n",
      "Philippines                     0.005985\n",
      "Cuba                            0.005835\n",
      "El-Salvador                     0.005093\n",
      "China                           0.004440\n",
      "England                         0.004113\n",
      "Columbia                        0.003184\n",
      "India                           0.003008\n",
      "South Korea                     0.002749\n",
      "Ireland                         0.002635\n",
      "Jamaica                         0.002401\n",
      "Vietnam                         0.002370\n",
      "Guatemala                       0.002308\n",
      "Japan                           0.002033\n",
      "Portugal                        0.002012\n",
      "Ecuador                         0.001966\n",
      "Haiti                           0.001820\n",
      "Greece                          0.001784\n",
      "Peru                            0.001737\n",
      "Nicaragua                       0.001634\n",
      "Hungary                         0.001587\n",
      "Scotland                        0.001281\n",
      "Iran                            0.001208\n",
      "Yugoslavia                      0.001125\n",
      "Taiwan                          0.001032\n",
      "Cambodia                        0.001017\n",
      "Honduras                        0.001006\n",
      "France                          0.000991\n",
      "Outlying-U S (Guam USVI etc)    0.000825\n",
      "Laos                            0.000799\n",
      "Trinadad&Tobago                 0.000586\n",
      "Thailand                        0.000555\n",
      "Hong Kong                       0.000550\n",
      "Holand-Netherlands              0.000265\n",
      "Panama                          0.000130\n",
      "Name: country of birth father, dtype: float64\n"
     ]
    }
   ],
   "source": [
    "column = census['country of birth father']\n",
    "column = column.loc[(column!='Not in universe')] # Select only rows with non-zero value\n",
    "values = column.value_counts(normalize=True)\n",
    "print(values)\n",
    "#values.plot.bar()\n",
    "#plt.title(column.name)\n",
    "#plt.show()"
   ]
  },
  {
   "cell_type": "code",
   "execution_count": 66,
   "metadata": {},
   "outputs": [
    {
     "name": "stdout",
     "output_type": "stream",
     "text": [
      "United-States                   0.829761\n",
      "Mexico                          0.050573\n",
      "Puerto-Rico                     0.012787\n",
      "Italy                           0.009534\n",
      "Canada                          0.007502\n",
      "Germany                         0.007146\n",
      "Philippines                     0.006365\n",
      "Poland                          0.005739\n",
      "Cuba                            0.005729\n",
      "El-Salvador                     0.005729\n",
      "Dominican-Republic              0.005703\n",
      "England                         0.004669\n",
      "China                           0.003930\n",
      "Columbia                        0.003164\n",
      "South Korea                     0.003149\n",
      "Ireland                         0.003097\n",
      "India                           0.003004\n",
      "Vietnam                         0.002446\n",
      "Japan                           0.002425\n",
      "Jamaica                         0.002342\n",
      "Guatemala                       0.002296\n",
      "Ecuador                         0.001939\n",
      "Peru                            0.001836\n",
      "Haiti                           0.001825\n",
      "Portugal                        0.001768\n",
      "Nicaragua                       0.001556\n",
      "Hungary                         0.001536\n",
      "Greece                          0.001350\n",
      "Scotland                        0.001246\n",
      "Taiwan                          0.001148\n",
      "Honduras                        0.001127\n",
      "France                          0.001096\n",
      "Iran                            0.001024\n",
      "Yugoslavia                      0.000915\n",
      "Outlying-U S (Guam USVI etc)    0.000812\n",
      "Cambodia                        0.000812\n",
      "Laos                            0.000801\n",
      "Thailand                        0.000636\n",
      "Hong Kong                       0.000553\n",
      "Trinadad&Tobago                 0.000512\n",
      "Holand-Netherlands              0.000253\n",
      "Panama                          0.000165\n",
      "Name: country of birth mother, dtype: float64\n"
     ]
    }
   ],
   "source": [
    "column = census['country of birth mother']\n",
    "column = column.loc[(column!='Not in universe')] # Select only rows with non-zero value\n",
    "values = column.value_counts(normalize=True)\n",
    "print(values)\n",
    "#values.plot.bar()\n",
    "#plt.title(column.name)\n",
    "#plt.show()"
   ]
  },
  {
   "cell_type": "code",
   "execution_count": 67,
   "metadata": {},
   "outputs": [
    {
     "name": "stdout",
     "output_type": "stream",
     "text": [
      "United-States                   0.902407\n",
      "Mexico                          0.029404\n",
      "Puerto-Rico                     0.007138\n",
      "Germany                         0.004339\n",
      "Philippines                     0.004308\n",
      "Cuba                            0.004268\n",
      "Canada                          0.003569\n",
      "Dominican-Republic              0.003518\n",
      "El-Salvador                     0.003513\n",
      "China                           0.002437\n",
      "South Korea                     0.002401\n",
      "England                         0.002330\n",
      "Columbia                        0.002213\n",
      "Italy                           0.002136\n",
      "India                           0.002080\n",
      "Vietnam                         0.001994\n",
      "Poland                          0.001943\n",
      "Guatemala                       0.001754\n",
      "Japan                           0.001728\n",
      "Jamaica                         0.001632\n",
      "Peru                            0.001366\n",
      "Ecuador                         0.001315\n",
      "Haiti                           0.001162\n",
      "Nicaragua                       0.001112\n",
      "Taiwan                          0.001025\n",
      "Portugal                        0.000887\n",
      "Iran                            0.000800\n",
      "Greece                          0.000750\n",
      "Honduras                        0.000734\n",
      "Ireland                         0.000688\n",
      "France                          0.000617\n",
      "Outlying-U S (Guam USVI etc)    0.000607\n",
      "Thailand                        0.000576\n",
      "Laos                            0.000535\n",
      "Hong Kong                       0.000510\n",
      "Cambodia                        0.000484\n",
      "Hungary                         0.000403\n",
      "Scotland                        0.000382\n",
      "Yugoslavia                      0.000337\n",
      "Trinadad&Tobago                 0.000337\n",
      "Panama                          0.000143\n",
      "Holand-Netherlands              0.000117\n",
      "Name: country of birth self, dtype: float64\n"
     ]
    }
   ],
   "source": [
    "column = census['country of birth self']\n",
    "column = column.loc[(column!='Not in universe')] # Select only rows with non-zero value\n",
    "values = column.value_counts(normalize=True)\n",
    "print(values)\n",
    "#values.plot.bar()\n",
    "#plt.title(column.name)\n",
    "#plt.show()"
   ]
  },
  {
   "cell_type": "markdown",
   "metadata": {},
   "source": [
    "### Own business or self-employed"
   ]
  },
  {
   "cell_type": "code",
   "execution_count": 68,
   "metadata": {},
   "outputs": [
    {
     "name": "stdout",
     "output_type": "stream",
     "text": [
      "0    0.905520\n",
      "2    0.080958\n",
      "1    0.013522\n",
      "Name: own business or self employed, dtype: float64\n"
     ]
    },
    {
     "data": {
      "image/png": "[encoded data removed]",
      "text/plain": [
       "<Figure size 432x288 with 1 Axes>"
      ]
     },
     "metadata": {
      "needs_background": "light"
     },
     "output_type": "display_data"
    }
   ],
   "source": [
    "column = census['own business or self employed']\n",
    "#column = column.loc[(column!='Not in universe')] # Select only rows with non-zero value\n",
    "values = column.value_counts(normalize=True)\n",
    "print(values)\n",
    "values.plot.bar()\n",
    "plt.title(column.name)\n",
    "plt.show()"
   ]
  },
  {
   "cell_type": "markdown",
   "metadata": {},
   "source": [
    "### Fill inc questionnaire for veteran's admin"
   ]
  },
  {
   "cell_type": "code",
   "execution_count": 69,
   "metadata": {},
   "outputs": [
    {
     "name": "stdout",
     "output_type": "stream",
     "text": [
      "Unclassified percentage: 99.0%\n"
     ]
    }
   ],
   "source": [
    "column = census['fill inc questionnaire for veteran\\'s admin']\n",
    "percentmissing = column.loc[(column=='Not in universe')].count()/len(census)\n",
    "print('Unclassified percentage: {:2.1f}%'.format(percentmissing*100))"
   ]
  },
  {
   "cell_type": "markdown",
   "metadata": {},
   "source": [
    "Most people are unclassified. Next plot ignores unclassified values so that other values appear with a reosonable scale."
   ]
  },
  {
   "cell_type": "code",
   "execution_count": 70,
   "metadata": {},
   "outputs": [
    {
     "name": "stdout",
     "output_type": "stream",
     "text": [
      "No     0.802923\n",
      "Yes    0.197077\n",
      "Name: fill inc questionnaire for veteran's admin, dtype: float64\n"
     ]
    },
    {
     "data": {
      "image/png": "[encoded data removed]",
      "text/plain": [
       "<Figure size 432x288 with 1 Axes>"
      ]
     },
     "metadata": {
      "needs_background": "light"
     },
     "output_type": "display_data"
    }
   ],
   "source": [
    "column = census['fill inc questionnaire for veteran\\'s admin']\n",
    "column = column.loc[(column!='Not in universe')] # Select only rows with non-zero value\n",
    "values = column.value_counts(normalize=True)\n",
    "print(values)\n",
    "values.plot.bar()\n",
    "plt.title(column.name)\n",
    "plt.show()"
   ]
  },
  {
   "cell_type": "markdown",
   "metadata": {},
   "source": [
    "### Veterans benefits"
   ]
  },
  {
   "cell_type": "code",
   "execution_count": 71,
   "metadata": {},
   "outputs": [
    {
     "name": "stdout",
     "output_type": "stream",
     "text": [
      "2    0.752445\n",
      "0    0.237612\n",
      "1    0.009944\n",
      "Name: veterans benefits, dtype: float64\n"
     ]
    },
    {
     "data": {
      "image/png": "[encoded data removed]",
      "text/plain": [
       "<Figure size 432x288 with 1 Axes>"
      ]
     },
     "metadata": {
      "needs_background": "light"
     },
     "output_type": "display_data"
    }
   ],
   "source": [
    "column = census['veterans benefits']\n",
    "#column = column.loc[(column!='Not in universe')] # Select only rows with non-zero value\n",
    "values = column.value_counts(normalize=True)\n",
    "print(values)\n",
    "values.plot.bar()\n",
    "plt.title(column.name)\n",
    "plt.show()"
   ]
  },
  {
   "cell_type": "markdown",
   "metadata": {},
   "source": [
    "### Weeks worked in year"
   ]
  },
  {
   "cell_type": "code",
   "execution_count": 72,
   "metadata": {},
   "outputs": [
    {
     "name": "stdout",
     "output_type": "stream",
     "text": [
      "Percent with zero weeks: 48.1%\n",
      "Percent working all year: 35.2%\n"
     ]
    }
   ],
   "source": [
    "column = census['weeks worked in year']\n",
    "numberofzero = column.loc[(column==0)].count()/len(census)\n",
    "print('Percent with zero weeks: {:2.1f}%'.format(numberofzero*100))\n",
    "numberof52 = column.loc[(column==52)].count()/len(census)\n",
    "print('Percent working all year: {:2.1f}%'.format(numberof52*100))"
   ]
  },
  {
   "cell_type": "code",
   "execution_count": 73,
   "metadata": {},
   "outputs": [
    {
     "data": {
      "text/plain": [
       "count    199523.000000\n",
       "mean         23.174897\n",
       "std          24.411488\n",
       "min           0.000000\n",
       "25%           0.000000\n",
       "50%           8.000000\n",
       "75%          52.000000\n",
       "max          52.000000\n",
       "Name: weeks worked in year, dtype: float64"
      ]
     },
     "execution_count": 73,
     "metadata": {},
     "output_type": "execute_result"
    }
   ],
   "source": [
    "column = census['weeks worked in year']\n",
    "#column = column.loc[(column!=0)] # Select only rows with non-zero value\n",
    "column.describe()"
   ]
  },
  {
   "cell_type": "code",
   "execution_count": 74,
   "metadata": {},
   "outputs": [
    {
     "data": {
      "image/png": "[encoded data removed]",
      "text/plain": [
       "<Figure size 432x288 with 2 Axes>"
      ]
     },
     "metadata": {
      "needs_background": "light"
     },
     "output_type": "display_data"
    }
   ],
   "source": [
    "column = census['weeks worked in year']\n",
    "#column = column.loc[(column!=0)] # Select only rows with non-zero value\n",
    "\n",
    "# Generate two axes on figure\n",
    "f, (ax_box, ax_hist) = plt.subplots(2, sharex=True, gridspec_kw={\"height_ratios\": (.2,.8)})\n",
    " \n",
    "# Plot histogram and boxplot\n",
    "sns.distplot(column,bins=53,kde=False, ax=ax_hist)\n",
    "sns.boxplot(column, ax=ax_box)\n",
    "\n",
    "ax_box.set(xlabel='')\n",
    "ax_box.set(title=column.name)\n",
    "plt.show()"
   ]
  },
  {
   "cell_type": "markdown",
   "metadata": {},
   "source": [
    "Very heavily skewed toward 0 weeks and 52 weeks! For the sake of being able to see the distribution between these, let's ignore these in the next plot. Bear in mind this next plot is therefore somewhat artificial."
   ]
  },
  {
   "cell_type": "code",
   "execution_count": 75,
   "metadata": {},
   "outputs": [
    {
     "data": {
      "image/png": "[encoded data removed]",
      "text/plain": [
       "<Figure size 432x288 with 2 Axes>"
      ]
     },
     "metadata": {
      "needs_background": "light"
     },
     "output_type": "display_data"
    }
   ],
   "source": [
    "column = census['weeks worked in year']\n",
    "column = column.loc[(column!=0)] # Select only rows with non-zero value\n",
    "column = column.loc[(column!=52)] # Select only rows with non-zero value\n",
    "\n",
    "# Generate two axes on figure\n",
    "f, (ax_box, ax_hist) = plt.subplots(2, sharex=True, gridspec_kw={\"height_ratios\": (.2,.8)})\n",
    " \n",
    "# Plot histogram and boxplot\n",
    "sns.distplot(column,bins=51,kde=False, ax=ax_hist)\n",
    "sns.boxplot(column, ax=ax_box)\n",
    "\n",
    "ax_box.set(xlabel='')\n",
    "ax_box.set(title=column.name)\n",
    "plt.show()"
   ]
  }
 ],
 "metadata": {
  "kernelspec": {
   "display_name": "Python 3",
   "language": "python",
   "name": "python3"
  },
  "language_info": {
   "codemirror_mode": {
    "name": "ipython",
    "version": 3
   },
   "file_extension": ".py",
   "mimetype": "text/x-python",
   "name": "python",
   "nbconvert_exporter": "python",
   "pygments_lexer": "ipython3",
   "version": "3.7.3"
  }
 },
 "nbformat": 4,
 "nbformat_minor": 4
}
